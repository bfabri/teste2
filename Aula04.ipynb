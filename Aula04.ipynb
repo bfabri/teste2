{
  "nbformat": 4,
  "nbformat_minor": 0,
  "metadata": {
    "colab": {
      "name": "Aula04.ipynb",
      "provenance": [],
      "authorship_tag": "ABX9TyPfLHi+F0qfMkSWL4SVOvmZ",
      "include_colab_link": true
    },
    "kernelspec": {
      "name": "python3",
      "display_name": "Python 3"
    },
    "language_info": {
      "name": "python"
    }
  },
  "cells": [
    {
      "cell_type": "markdown",
      "metadata": {
        "id": "view-in-github",
        "colab_type": "text"
      },
      "source": [
        "<a href=\"https://colab.research.google.com/github/bfabri/teste2/blob/main/Aula04.ipynb\" target=\"_parent\"><img src=\"https://colab.research.google.com/assets/colab-badge.svg\" alt=\"Open In Colab\"/></a>"
      ]
    },
    {
      "cell_type": "markdown",
      "metadata": {
        "id": "UKUeHkHICBcT"
      },
      "source": [
        "# Aula 04 - Code Lab - Introdução ao Python\n",
        "\n",
        "## Exercício 1"
      ]
    },
    {
      "cell_type": "code",
      "metadata": {
        "id": "5R6aS1qHB6GE"
      },
      "source": [
        ""
      ],
      "execution_count": null,
      "outputs": []
    }
  ]
}